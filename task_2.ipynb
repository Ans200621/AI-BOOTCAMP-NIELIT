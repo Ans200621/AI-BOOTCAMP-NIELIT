{
  "nbformat": 4,
  "nbformat_minor": 0,
  "metadata": {
    "colab": {
      "provenance": []
    },
    "kernelspec": {
      "name": "python3",
      "display_name": "Python 3"
    },
    "language_info": {
      "name": "python"
    }
  },
  "cells": [
    {
      "cell_type": "code",
      "execution_count": 1,
      "metadata": {
        "colab": {
          "base_uri": "https://localhost:8080/"
        },
        "id": "xSBoB-QqzD2J",
        "outputId": "dba8b7bb-2db0-48d3-8518-ef9ad36fa095"
      },
      "outputs": [
        {
          "output_type": "stream",
          "name": "stdout",
          "text": [
            "value of sum= 7\n"
          ]
        }
      ],
      "source": [
        "a= 5\n",
        "b= 2\n",
        "c= a+b\n",
        "print(\"value of sum=\",c)"
      ]
    }
  ]
}