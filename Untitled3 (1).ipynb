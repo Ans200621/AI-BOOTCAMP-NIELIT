{
  "nbformat": 4,
  "nbformat_minor": 0,
  "metadata": {
    "colab": {
      "provenance": []
    },
    "kernelspec": {
      "name": "python3",
      "display_name": "Python 3"
    },
    "language_info": {
      "name": "python"
    }
  },
  "cells": [
    {
      "cell_type": "code",
      "execution_count": 4,
      "metadata": {
        "colab": {
          "base_uri": "https://localhost:8080/"
        },
        "id": "1iYWVA6mdmIy",
        "outputId": "319709c6-3651-49ea-9407-a474e83d5d90"
      },
      "outputs": [
        {
          "output_type": "stream",
          "name": "stdout",
          "text": [
            "enter first number2\n",
            "enter second number5\n",
            "multiplication of two numbers= 10\n"
          ]
        }
      ],
      "source": [
        "#Multyply two numbers\n",
        "a=int(input(\"enter first number\"))\n",
        "b=int(input(\"enter second number\"))\n",
        "c= a*b\n",
        "print(\"multiplication of two numbers=\",c)"
      ]
    }
  ]
}